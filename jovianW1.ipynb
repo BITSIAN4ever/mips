{
  "nbformat": 4,
  "nbformat_minor": 0,
  "metadata": {
    "colab": {
      "provenance": [],
      "toc_visible": true,
      "authorship_tag": "ABX9TyODuBEfXiQefE9EiDtrzxlt",
      "include_colab_link": true
    },
    "kernelspec": {
      "name": "python3",
      "display_name": "Python 3"
    },
    "language_info": {
      "name": "python"
    }
  },
  "cells": [
    {
      "cell_type": "markdown",
      "metadata": {
        "id": "view-in-github",
        "colab_type": "text"
      },
      "source": [
        "<a href=\"https://colab.research.google.com/github/BITSIAN4ever/mips/blob/master/jovianW1.ipynb\" target=\"_parent\"><img src=\"https://colab.research.google.com/assets/colab-badge.svg\" alt=\"Open In Colab\"/></a>"
      ]
    },
    {
      "cell_type": "code",
      "execution_count": null,
      "metadata": {
        "colab": {
          "base_uri": "https://localhost:8080/"
        },
        "id": "E-jCMBBz22Uy",
        "outputId": "e59781d0-c262-45de-eb36-4bf3260744f0"
      },
      "outputs": [
        {
          "output_type": "stream",
          "name": "stdout",
          "text": [
            "[[ 1.08540461  0.83518126  0.59967148 -0.80575179]\n",
            " [-1.55535545  0.41621469  0.03318253 -1.81090041]\n",
            " [-1.12015476 -1.64767069  0.38589078  0.86691474]]\n"
          ]
        }
      ],
      "source": [
        "medical_charges_url = 'https://raw.githubusercontent.com/JovianML/opendatasets/master/data/medical-charges.csv'\n",
        "from urllib.request import urlretrieve\n",
        "urlretrieve(medical_charges_url, 'medical.csv')\n",
        "import pandas as pd\n",
        "medical_df = pd.read_csv('medical.csv')\n",
        "print(medical_df)\n",
        "medical_df.info()"
      ]
    },
    {
      "cell_type": "code",
      "source": [],
      "metadata": {
        "id": "Dqz6aSO83G4h"
      },
      "execution_count": null,
      "outputs": []
    }
  ]
}